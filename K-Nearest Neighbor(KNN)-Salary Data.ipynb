{
 "cells": [
  {
   "cell_type": "markdown",
   "id": "4781787f-d5db-4125-b0c4-f65c129bea42",
   "metadata": {},
   "source": [
    "# K-Nearest Neighbor(KNN) "
   ]
  },
  {
   "cell_type": "markdown",
   "id": "f8515b7f-4e34-4a68-9d58-e8171d3dc9b2",
   "metadata": {},
   "source": [
    "## Load and preprocess the dataset"
   ]
  },
  {
   "cell_type": "code",
   "execution_count": 10,
   "id": "c333b45f-f9cd-4a7c-a616-480c68d1cd44",
   "metadata": {},
   "outputs": [
    {
     "name": "stdout",
     "output_type": "stream",
     "text": [
      "Dataset Head:\n",
      "   ID  Age         Education  Years_Experience           Job_Role  Salary  \\\n",
      "0   1   60       High School                23  Software Engineer  160078   \n",
      "1   2   50     Master Degree                24  Software Engineer  130623   \n",
      "2   3   36  Associate Degree                37    Product Manager   72671   \n",
      "3   4   64     Master Degree                35  Software Engineer  143384   \n",
      "4   5   29  Associate Degree                22         Consultant  136202   \n",
      "\n",
      "      Location   Class_Label  \n",
      "0     New York  Below Median  \n",
      "1       Austin  Above Median  \n",
      "2  Los Angeles  Below Median  \n",
      "3     New York  Above Median  \n",
      "4       Austin  Above Median  \n"
     ]
    }
   ],
   "source": [
    "# Import necessary libraries\n",
    "import pandas as pd\n",
    "from sklearn.model_selection import train_test_split\n",
    "from sklearn.preprocessing import LabelEncoder, StandardScaler\n",
    "from sklearn.neighbors import KNeighborsClassifier\n",
    "from sklearn.metrics import accuracy_score, confusion_matrix\n",
    "\n",
    "\n",
    "\n",
    "# Load the dataset\n",
    "file_path = 'salary_data.csv'\n",
    "df = pd.read_csv(file_path)\n",
    "\n",
    "# Display the first few rows of the dataset\n",
    "print(\"Dataset Head:\")\n",
    "print(df.head())    \n",
    "\n",
    "\n",
    "#ID: A unique identifier for each individual record\n",
    "#Age: The age of the individual in years between 22 and 65. This helps show the correlation between age and salary.\n",
    "#Education: The highest level of education the individual has achieved: High School , Associate Degree , Bachelor Degree ,Master Degree ,PhD .\n",
    "#Years_Experience: The number of years  between 1 and 40 years.\n",
    "#Job_Role: The current role or job title of the individual. It can be one of the following: Software Engineer , Data Scientist ,Product ,anager,Consultant ,Designer .\n",
    "#Salary: The individual's annual salary between 50,000 and 200,000 USD.\n",
    "\n",
    "#Location: The city where the individual is employed. It can be one of the following: New York , San Francisco ,Los Angeles ,Austin,Seattle\n",
    "#Class_Label: This represents whether the salary is considered \"Above Median\" or \"Below Median\" based on the salary data. This label is binary and is used as the target class in classification tasks."
   ]
  },
  {
   "cell_type": "markdown",
   "id": "e65311b9-731e-4aa6-ad94-aafabe6ab7ee",
   "metadata": {},
   "source": [
    "## Preprocessing (Encoding categorical variables and normalization)"
   ]
  },
  {
   "cell_type": "code",
   "execution_count": 13,
   "id": "473d1674-b1af-4055-a13a-d95600946bd2",
   "metadata": {},
   "outputs": [],
   "source": [
    "# Encode categorical variables (Job_Role, Education, Location, Class_Label)\n",
    "label_encoders = {}\n",
    "for column in ['Job_Role', 'Education', 'Location', 'Class_Label']:\n",
    "    le = LabelEncoder()\n",
    "    df[column] = le.fit_transform(df[column])\n",
    "    label_encoders[column] = le\n",
    "\n",
    "# Split data into features (X) and target (y)\n",
    "X = df.drop(['Class_Label', 'ID'], axis=1)  # Drop ID and target column\n",
    "y = df['Class_Label']\n",
    "\n",
    "# Normalize the feature set\n",
    "scaler = StandardScaler()\n",
    "X_scaled = scaler.fit_transform(X)"
   ]
  },
  {
   "cell_type": "markdown",
   "id": "02a56484-be05-4500-ac4a-63b6a188d3fa",
   "metadata": {},
   "source": [
    "## Split the data into training and test sets"
   ]
  },
  {
   "cell_type": "code",
   "execution_count": 26,
   "id": "cd65e26a-18e9-4b0e-aa68-9a749fe66b23",
   "metadata": {},
   "outputs": [
    {
     "name": "stdout",
     "output_type": "stream",
     "text": [
      "Training data size: 40\n",
      "Test data size: 10\n"
     ]
    }
   ],
   "source": [
    "# Split data into training and testing sets (80% train, 20% test)\n",
    "X_train, X_test, y_train, y_test = train_test_split(X_scaled, y, test_size=0.2, random_state=42)\n",
    "\n",
    "print(f\"Training data size: {len(X_train)}\")\n",
    "print(f\"Test data size: {len(X_test)}\")"
   ]
  },
  {
   "cell_type": "markdown",
   "id": "80a3b356-0213-4608-b61b-09da08a86c75",
   "metadata": {},
   "source": [
    "## Train KNN Algorithm"
   ]
  },
  {
   "cell_type": "code",
   "execution_count": 28,
   "id": "b2c264da-9b8c-42d2-8b7d-7fee95025280",
   "metadata": {},
   "outputs": [],
   "source": [
    "# Initialize and train the KNN model\n",
    "knn = KNeighborsClassifier(n_neighbors=5)  # You can experiment with different values of 'k'\n",
    "knn.fit(X_train, y_train)\n",
    "\n",
    "# Predict on the test set\n",
    "y_pred = knn.predict(X_test)\n"
   ]
  },
  {
   "cell_type": "markdown",
   "id": "dd013fcd-6749-48f7-a479-39daba1e9fb1",
   "metadata": {},
   "source": [
    "## Evaluate the Model "
   ]
  },
  {
   "cell_type": "code",
   "execution_count": 30,
   "id": "8bf2dcfb-e39f-4753-8aae-fed170efa083",
   "metadata": {},
   "outputs": [
    {
     "name": "stdout",
     "output_type": "stream",
     "text": [
      "KNN Model Accuracy: 80.00%\n",
      "Confusion Matrix:\n",
      "[[6 1]\n",
      " [1 2]]\n"
     ]
    }
   ],
   "source": [
    "# Calculate accuracy\n",
    "accuracy = accuracy_score(y_test, y_pred)\n",
    "print(f\"KNN Model Accuracy: {accuracy * 100:.2f}%\")\n",
    "\n",
    "# Confusion Matrix\n",
    "conf_matrix = confusion_matrix(y_test, y_pred)\n",
    "print(\"Confusion Matrix:\")\n",
    "print(conf_matrix)\n"
   ]
  },
  {
   "cell_type": "code",
   "execution_count": 32,
   "id": "e1a5f696-798a-4108-bc0e-5add6f69b9b4",
   "metadata": {},
   "outputs": [
    {
     "name": "stdout",
     "output_type": "stream",
     "text": [
      "Confusion Matrix:\n",
      "[[6 1]\n",
      " [1 2]]\n",
      "Classification Report:\n",
      "              precision    recall  f1-score   support\n",
      "\n",
      "Below Median       0.86      0.86      0.86         7\n",
      "Above Median       0.67      0.67      0.67         3\n",
      "\n",
      "    accuracy                           0.80        10\n",
      "   macro avg       0.76      0.76      0.76        10\n",
      "weighted avg       0.80      0.80      0.80        10\n",
      "\n"
     ]
    }
   ],
   "source": [
    "from sklearn.metrics import classification_report, confusion_matrix\n",
    "\n",
    "# Confusion Matrix\n",
    "conf_matrix = confusion_matrix(y_test, y_pred)\n",
    "print(\"Confusion Matrix:\")\n",
    "print(conf_matrix)\n",
    "\n",
    "# Classification Report: includes Precision, Recall, and F-measure\n",
    "classification_report_results = classification_report(y_test, y_pred, target_names=['Below Median', 'Above Median'])\n",
    "print(\"Classification Report:\")\n",
    "print(classification_report_results)\n"
   ]
  },
  {
   "cell_type": "code",
   "execution_count": null,
   "id": "5e76c059-d236-4f16-8f05-f3e055669633",
   "metadata": {},
   "outputs": [],
   "source": []
  }
 ],
 "metadata": {
  "kernelspec": {
   "display_name": "Python 3 (ipykernel)",
   "language": "python",
   "name": "python3"
  },
  "language_info": {
   "codemirror_mode": {
    "name": "ipython",
    "version": 3
   },
   "file_extension": ".py",
   "mimetype": "text/x-python",
   "name": "python",
   "nbconvert_exporter": "python",
   "pygments_lexer": "ipython3",
   "version": "3.11.7"
  }
 },
 "nbformat": 4,
 "nbformat_minor": 5
}
